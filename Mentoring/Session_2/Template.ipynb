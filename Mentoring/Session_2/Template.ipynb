{
 "cells": [
  {
   "cell_type": "markdown",
   "metadata": {},
   "source": [
    "# Solving Linear Equation\n",
    "Solve the following system of linear equations with the following requirements:\n",
    "1. You must determine whether the equations are diagonally dominant programmatically. If the equation is not diagonal, then print error message.\n",
    "2. If the equations are diagonally dominant, use Gauss-Seidel method and the number 15 as the maximum iterations. Otherwise, show a message telling the equations are not diagonally dominant.\n",
    "3. Use a pre-defined threshold of 0.022\n",
    "4. Use the value 0 as the initial value of x1, x2, x3, and x4.\n",
    "\n",
    "Then, show the result for each equations and check whether the equations below are convergent or not and print the value of x1, x2, x3, and x4 in each iteration."
   ]
  },
  {
   "cell_type": "code",
   "execution_count": null,
   "metadata": {},
   "outputs": [],
   "source": [
    "Xs = [\n",
    "    [\n",
    "      [4, 2, -1],\n",
    "      [1, -5, 2],\n",
    "      [2, -1, -4]\n",
    "    ],\n",
    "    [\n",
    "      [3, 4, 5],\n",
    "      [-3, 7, -4],\n",
    "      [1, -4, -2]\n",
    "    ],\n",
    "    [\n",
    "      [9, -2, 3, 2],\n",
    "      [2, 8, -2, 3],\n",
    "      [-3, 2, 11, -4],\n",
    "      [-2, 3, 2, 10]\n",
    "    ]\n",
    "]\n",
    "Ys = [\n",
    "    [41, -10, 1],\n",
    "    [34, -32, 62],\n",
    "    [55, -14, 12, -21]\n",
    "]"
   ]
  },
  {
   "cell_type": "code",
   "execution_count": null,
   "metadata": {},
   "outputs": [],
   "source": [
    "# Import libraries\n"
   ]
  },
  {
   "cell_type": "code",
   "execution_count": null,
   "metadata": {},
   "outputs": [],
   "source": [
    "# Step 1: Check for diagonally dominant\n",
    " "
   ]
  },
  {
   "cell_type": "code",
   "execution_count": null,
   "metadata": {},
   "outputs": [],
   "source": [
    "# Step 2: Solve using Gauss-Seidel\n"
   ]
  }
 ],
 "metadata": {
  "kernelspec": {
   "display_name": "base",
   "language": "python",
   "name": "python3"
  },
  "language_info": {
   "codemirror_mode": {
    "name": "ipython",
    "version": 3
   },
   "file_extension": ".py",
   "mimetype": "text/x-python",
   "name": "python",
   "nbconvert_exporter": "python",
   "pygments_lexer": "ipython3",
   "version": "3.9.13"
  }
 },
 "nbformat": 4,
 "nbformat_minor": 2
}
