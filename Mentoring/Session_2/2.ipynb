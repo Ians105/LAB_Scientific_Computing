{
 "cells": [
  {
   "cell_type": "markdown",
   "metadata": {},
   "source": [
    "# Solving Linear Equation\n",
    "Solve the following system of linear equations with the following requirements:\n",
    "1. You must determine whether the equations are diagonally dominant programmatically. If the equation is not diagonal, then print error message.\n",
    "2. If the equations are diagonally dominant, use Gauss-Seidel method and the number 15 as the maximum iterations. Otherwise, show a message telling the equations are not diagonally dominant.\n",
    "3. Use a pre-defined threshold of 0.022\n",
    "4. Use the value 0 as the initial value of x1, x2, x3, and x4.\n",
    "\n",
    "Then, show the result for each equations and check whether the equations below are convergent or not and print the value of x1, x2, x3, and x4 in each iteration."
   ]
  },
  {
   "cell_type": "code",
   "execution_count": null,
   "metadata": {},
   "outputs": [],
   "source": [
    "Xs = [\n",
    "    [\n",
    "      [4, 2, -1],\n",
    "      [1, -5, 2],\n",
    "      [2, -1, -4]\n",
    "    ],\n",
    "    [\n",
    "      [3, 4, 5],\n",
    "      [-3, 7, -4],\n",
    "      [1, -4, -2]\n",
    "    ],\n",
    "    [\n",
    "      [9, -2, 3, 2],\n",
    "      [2, 8, -2, 3],\n",
    "      [-3, 2, 11, -4],\n",
    "      [-2, 3, 2, 10]\n",
    "    ]\n",
    "]\n",
    "Ys = [\n",
    "    [41, -10, 1],\n",
    "    [34, -32, 62],\n",
    "    [55, -14, 12, -21]\n",
    "]"
   ]
  },
  {
   "cell_type": "code",
   "execution_count": null,
   "metadata": {},
   "outputs": [],
   "source": [
    "# Import libraries\n",
    "import numpy as np"
   ]
  },
  {
   "cell_type": "code",
   "execution_count": null,
   "metadata": {},
   "outputs": [],
   "source": [
    "# Step 1: Check for diagonally dominant\n",
    "def is_diagonally_dominant(matrix):\n",
    "    for i in range(len(matrix)):\n",
    "        row_sum = sum([abs(matrix[i][j]) for j in range(len(matrix))]) - abs(matrix[i][i])\n",
    "        if abs(matrix[i][i]) < row_sum:\n",
    "            return False\n",
    "    return True\n",
    "\n",
    "for i in range(len(Xs)):\n",
    "    print(f\"Matrix {i+1} is diagonally dominant:\", is_diagonally_dominant(Xs[i])) "
   ]
  },
  {
   "cell_type": "code",
   "execution_count": null,
   "metadata": {},
   "outputs": [],
   "source": [
    "# Step 2: Solve using Gauss-Seidel\n",
    "def gauss_seidel(matrix, vector, tolerance=0.022, max_iterations=15):\n",
    "    '''\n",
    "    Arguments\n",
    "    1. matrix : coefficients of linear equations\n",
    "    2. vector : constant terms of linear equations\n",
    "    3. tolerance : tolerance for approximation\n",
    "    4. max_iterations : maximum number of iterations\n",
    "    '''\n",
    "    print(\"X:\", matrix, \", Y:\", vector)\n",
    "    \n",
    "    n = len(matrix)\n",
    "    x = np.zeros(n)\n",
    "\n",
    "    for iter in range(max_iterations):\n",
    "        x_new = np.zeros(n)\n",
    "        for i in range(n):\n",
    "            s1 = sum(matrix[i][j] * x_new[j] for j in range(i))\n",
    "            s2 = sum(matrix[i][j] * x[j] for j in range(i+1, n))\n",
    "            x_new[i] = (vector[i] - s1 - s2) / matrix[i][i]\n",
    "        if np.allclose(x, x_new, atol=tolerance):\n",
    "            print(f\"Iteration {iter+1}: {x}\")\n",
    "            print(\"Convergent\")\n",
    "            return\n",
    "        x = x_new\n",
    "        print(f\"Iteration {iter+1}: {x}\")\n",
    "    print(\"Not convergent, reached the maximum iteration\")\n",
    "\n",
    "for i in range(len(Xs)):\n",
    "    if(is_diagonally_dominant(Xs[i])):\n",
    "        gauss_seidel(Xs[i], Ys[i])\n",
    "    else:\n",
    "        print(f\"Matrix {i+1} is not diagonally dominant, cannot solve using Gauss-Seidel\")"
   ]
  }
 ],
 "metadata": {
  "kernelspec": {
   "display_name": "base",
   "language": "python",
   "name": "python3"
  },
  "language_info": {
   "codemirror_mode": {
    "name": "ipython",
    "version": 3
   },
   "file_extension": ".py",
   "mimetype": "text/x-python",
   "name": "python",
   "nbconvert_exporter": "python",
   "pygments_lexer": "ipython3",
   "version": "3.9.13"
  }
 },
 "nbformat": 4,
 "nbformat_minor": 2
}
