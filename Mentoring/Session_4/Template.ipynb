{
 "cells": [
  {
   "cell_type": "code",
   "execution_count": null,
   "metadata": {},
   "outputs": [],
   "source": [
    "# Newton Raphson\n",
    "\n",
    "# import libraries\n",
    "\n",
    "# step 1: Insert the equations\n",
    "def f(x):\n",
    "    return x**6 + 2 * x**2 - 3\n",
    "\n",
    "def df(x):\n",
    "    return \n",
    "\n",
    "# step 2: Initialize the variables\n",
    "\n",
    "\n",
    "# step 3: Implement the Newton Raphson method\n",
    "\n",
    "\n",
    "# step 4: Print the root\n"
   ]
  },
  {
   "cell_type": "code",
   "execution_count": null,
   "metadata": {},
   "outputs": [],
   "source": [
    "# Bisection method\n",
    "\n",
    "# step 1: Insert the equations\n",
    "def f(x):\n",
    "    return 10 * x**3 + 8 * x**2 + 9\n",
    "\n",
    "# step 2: Initialize the variables\n",
    "coordinates = [\n",
    "    [3, 4],\n",
    "    [-10, 17],\n",
    "    [10, -15],\n",
    "    [-2, 4],\n",
    "    [12, -5],\n",
    "    [-8, -13],\n",
    "    [7, -21],\n",
    "]\n",
    "\n",
    "# step 3: Implement the Bisection method\n",
    "\n",
    "# step 4: Print the root\n"
   ]
  }
 ],
 "metadata": {
  "kernelspec": {
   "display_name": "base",
   "language": "python",
   "name": "python3"
  },
  "language_info": {
   "codemirror_mode": {
    "name": "ipython",
    "version": 3
   },
   "file_extension": ".py",
   "mimetype": "text/x-python",
   "name": "python",
   "nbconvert_exporter": "python",
   "pygments_lexer": "ipython3",
   "version": "3.9.13"
  }
 },
 "nbformat": 4,
 "nbformat_minor": 2
}
