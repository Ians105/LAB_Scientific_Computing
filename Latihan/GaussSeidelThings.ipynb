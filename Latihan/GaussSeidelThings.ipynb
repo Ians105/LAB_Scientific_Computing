{
 "cells": [
  {
   "cell_type": "code",
   "execution_count": null,
   "metadata": {},
   "outputs": [],
   "source": [
    "import numpy as np"
   ]
  },
  {
   "cell_type": "code",
   "execution_count": null,
   "metadata": {},
   "outputs": [],
   "source": [
    "def gaussSeidel(x, y, convergence, maxIteration):\n",
    "    # find out if it is diagonally dominant or not\n",
    "    diagonal=np.array(np.abs(np.diag(x))) # getting the absolute diagonal value of array x\n",
    "    print(diagonal) \n",
    "    np.fill_diagonal(x, 0) # changes the diagonal of array x to 0\n",
    "    offDiagonal=np.array(np.sum(x, axis=1)) # getting the sum of off diagonals in array x\n",
    "    print(offDiagonal)\n",
    "\n",
    "    if not np.all(diagonal>offDiagonal): # compares all the axis of diagonal and offDiagonal\n",
    "        print(\"It is not diagonally dominant\")\n",
    "        return\n",
    "    print(\"Diagonally dominant\")\n",
    "\n",
    "    oldResult = np.zeros(np.shape(diagonal)) # makes the array of results \n",
    "    for i in range(maxIteration):\n",
    "        newResult = np.array(oldResult)\n",
    "        for k, row in enumerate(x):\n",
    "            newResult[k] = (y[k] - np.dot(row, newResult))/diagonal[k]\n",
    "        print(\"Iteration number\", i+1, \"=\", newResult)\n",
    "\n",
    "        difference = np.sqrt(np.dot(newResult-oldResult, newResult-oldResult)) # Euclidean Distance\n",
    "        print(\"Difference = \", difference)\n",
    "        oldResult = newResult\n",
    "\n",
    "        if(difference < convergence):\n",
    "            print(\"The solution is convegernce\")\n",
    "            return\n",
    "    \n",
    "    print(\"Not convergent, reached maximum iteration\")"
   ]
  },
  {
   "cell_type": "code",
   "execution_count": null,
   "metadata": {},
   "outputs": [],
   "source": [
    "Xs=[\n",
    "    [20, 1, -2],\n",
    "    [3, 20, -1],\n",
    "    [2, -3, 20]\n",
    "]\n",
    "\n",
    "Ys=[17, -18, 25]"
   ]
  },
  {
   "cell_type": "code",
   "execution_count": null,
   "metadata": {},
   "outputs": [],
   "source": [
    "x=np.array(Xs)\n",
    "y=np.array(Ys)\n",
    "\n",
    "convergence = 0.022\n",
    "maxIteration = 12\n",
    "\n",
    "gaussSeidel(x, y, convergence, maxIteration)"
   ]
  }
 ],
 "metadata": {
  "kernelspec": {
   "display_name": "base",
   "language": "python",
   "name": "python3"
  },
  "language_info": {
   "codemirror_mode": {
    "name": "ipython",
    "version": 3
   },
   "file_extension": ".py",
   "mimetype": "text/x-python",
   "name": "python",
   "nbconvert_exporter": "python",
   "pygments_lexer": "ipython3",
   "version": "3.9.13"
  },
  "orig_nbformat": 4
 },
 "nbformat": 4,
 "nbformat_minor": 2
}
