{
 "cells": [
  {
   "cell_type": "code",
   "execution_count": null,
   "metadata": {},
   "outputs": [],
   "source": [
    "import numpy as np\n",
    "import matplotlib.pyplot as plt"
   ]
  },
  {
   "cell_type": "code",
   "execution_count": null,
   "metadata": {},
   "outputs": [],
   "source": [
    "y=np.array([1981, 1983, 1985, 1987, 1989, 1991, 1993, 1995, 1997, 1999])\n",
    "yEven=np.array([1982, 1984, 1986, 1988, 1990, 1992, 1994, 1996, 1998])\n",
    "x=np.array([14.1999, 14.2411, 14.0342, 14.2696, 14.1970, 14.3055, 14.1853, 14.3577, 14.4187, 14.3438])"
   ]
  },
  {
   "cell_type": "code",
   "execution_count": null,
   "metadata": {},
   "outputs": [],
   "source": [
    "size = len(y)\n",
    "\n",
    "sumY = np.sum(y)\n",
    "sumX = np.sum(x)\n",
    "\n",
    "yBar = sumY / size\n",
    "xBar = sumX / size\n",
    "\n",
    "yx = y * x\n",
    "sumYX = np.sum(yx)\n",
    "ySquared = y * y\n",
    "sumYSquared = np.sum(ySquared)\n",
    "\n",
    "slope = ((sumYX) - (yBar * sumX)) / (sumYSquared - (size * yBar**2))\n",
    "intercept = xBar - (slope*yBar)\n",
    "\n",
    "# print(intercept)\n",
    "# print(slope)\n",
    "regressionLine = intercept + (slope * y)\n",
    "\n",
    "plt.title(\"Least Square Regression\")\n",
    "plt.plot(y,x, \"go\")\n",
    "plt.plot(y, regressionLine, \"r\")\n",
    "plt.legend([\"Known points\", \"Regression line\"], loc=\"lower right\")\n",
    "plt.xlabel(\"Year (Y)\")\n",
    "plt.ylabel(\"Temperature (X, C)\")\n",
    "plt.xticks(y)\n",
    "plt.show()\n",
    "\n",
    "xEven = intercept + (slope * yEven)\n",
    "print(xEven)"
   ]
  },
  {
   "cell_type": "code",
   "execution_count": null,
   "metadata": {},
   "outputs": [],
   "source": [
    "yTemp = np.vstack([y, np.ones(len(y))]) #make an array with vertical stack y as the first row and ones in the second row\n",
    "xTemp = x[:, np.newaxis] #add another dimension to an array ex: [10] ->[[10]]\n",
    "\n",
    "variable = np.dot(np.dot(np.linalg.inv(np.dot(yTemp, yTemp.T)), yTemp), xTemp)\n",
    "\n",
    "# print(variable[0]) #slope\n",
    "# print(variable[1]) #intercept\n",
    "\n",
    "plt.title('Least Square Regression')\n",
    "plt.plot(y, x, \"go\")\n",
    "plt.plot(y, variable[0]*y + variable[1], \"r\")\n",
    "plt.legend([\"Known points\", \"Regression line\"], loc=\"lower right\")\n",
    "plt.xlabel(\"Year (Y)\")\n",
    "plt.ylabel(\"Temperature (X, C)\")\n",
    "plt.xticks(y)\n",
    "plt.show()"
   ]
  },
  {
   "cell_type": "code",
   "execution_count": null,
   "metadata": {},
   "outputs": [],
   "source": [
    "xLinear = np.array([14.2205, 14.1376, 14.1519, 14.2333, 14.2513, 14.2454, 14.2715, 14.3882, 14.3812])\n",
    "xQuadratic = np.array([14.2515, 14.1687, 14.1904, 14.2718, 14.2799, 14.2741, 14.2854, 14.4022, 14.3982])\n",
    "xCubic = np.array([14.2947, 14.1255, 14.0539, 14.1848, 14.2546, 14.2996, 14.2836, 14.4040, 14.3988])"
   ]
  },
  {
   "cell_type": "code",
   "execution_count": null,
   "metadata": {},
   "outputs": [],
   "source": [
    "plt.title(\"Linear Interpolation Order\")\n",
    "plt.plot(yEven, xLinear, \"g\")\n",
    "plt.plot(yEven, xQuadratic, \"r\")\n",
    "plt.plot(yEven, xCubic, \"b\")\n",
    "plt.plot(y, x, \"k\")\n",
    "plt.legend([\"Linear\", \"Quadratic\", \"Cubic\", \"Odd years\"], loc=\"lower right\")\n",
    "plt.xlabel(\"Year (Y)\")\n",
    "plt.ylabel(\"Temperature (X, C)\")\n",
    "plt.xticks(y)\n",
    "plt.show()\n"
   ]
  },
  {
   "cell_type": "code",
   "execution_count": null,
   "metadata": {},
   "outputs": [],
   "source": [
    "for i in range(0, (len(yEven)+len(y))):\n",
    "    if i % 2 == 0:\n",
    "        print(\"Temperature: \", x[i//2])\n",
    "    else :\n",
    "        print(\"Linear: \", xLinear[i//2], \"Quadratic: \", xQuadratic[i//2], \"Cubic: \", xCubic[i//2])"
   ]
  }
 ],
 "metadata": {
  "kernelspec": {
   "display_name": "base",
   "language": "python",
   "name": "python3"
  },
  "language_info": {
   "codemirror_mode": {
    "name": "ipython",
    "version": 3
   },
   "file_extension": ".py",
   "mimetype": "text/x-python",
   "name": "python",
   "nbconvert_exporter": "python",
   "pygments_lexer": "ipython3",
   "version": "3.9.13"
  },
  "orig_nbformat": 4
 },
 "nbformat": 4,
 "nbformat_minor": 2
}
