{
 "cells": [
  {
   "cell_type": "code",
   "execution_count": null,
   "metadata": {},
   "outputs": [],
   "source": [
    "import numpy as np"
   ]
  },
  {
   "cell_type": "code",
   "execution_count": null,
   "metadata": {},
   "outputs": [],
   "source": [
    "def function(x):\n",
    "    return (x**3 - (0.3*(x**2)) - (8.56*x) + 8.448)"
   ]
  },
  {
   "cell_type": "code",
   "execution_count": null,
   "metadata": {},
   "outputs": [],
   "source": [
    "lowerBound = 0\n",
    "upperBound = 2*np.pi\n",
    "\n",
    "points=20 #19\n",
    "\n",
    "distanceBetween = (upperBound - lowerBound) / (points - 1)\n",
    "\n",
    "x = np.linspace(lowerBound, upperBound, points)\n",
    "y = function(x)\n",
    "\n",
    "leftRiemann = distanceBetween * np.sum(y[:-1]) # starts at 0 until n-1\n",
    "rightRiemann = distanceBetween * np.sum(y[1:]) # starts at 1 until n\n",
    "middleRiemann = distanceBetween * np.sum(function((x[:-1] + x[1:]) / 2))"
   ]
  },
  {
   "cell_type": "code",
   "execution_count": null,
   "metadata": {},
   "outputs": [],
   "source": [
    "print(f\"Left Riemann = {leftRiemann}\") \n",
    "print(f\"Right Riemann = {rightRiemann}\")\n",
    "print(f\"Middle Riemann = {middleRiemann}\")"
   ]
  }
 ],
 "metadata": {
  "kernelspec": {
   "display_name": "base",
   "language": "python",
   "name": "python3"
  },
  "language_info": {
   "codemirror_mode": {
    "name": "ipython",
    "version": 3
   },
   "file_extension": ".py",
   "mimetype": "text/x-python",
   "name": "python",
   "nbconvert_exporter": "python",
   "pygments_lexer": "ipython3",
   "version": "3.9.13"
  },
  "orig_nbformat": 4
 },
 "nbformat": 4,
 "nbformat_minor": 2
}
